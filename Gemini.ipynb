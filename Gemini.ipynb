{
 "cells": [
  {
   "cell_type": "code",
   "execution_count": 69,
   "metadata": {},
   "outputs": [],
   "source": [
    "import builtins\n",
    "from typing import *\n",
    "\n",
    "class GlobalFileInput:\n",
    "    \n",
    "    def __init__(self, file_path='input.txt'):\n",
    "\n",
    "        self.file_path = file_path\n",
    "        self.file = None\n",
    "        self.original_input = builtins.input\n",
    "    \n",
    "    def start(self):\n",
    "        self.file = open(self.file_path, 'r')\n",
    "        builtins.input = self.file_input\n",
    "\n",
    "    def stop(self):\n",
    "        if self.file:\n",
    "            builtins.input = self.original_input\n",
    "            self.file.close()\n",
    "\n",
    "    def file_input(self, prompt=''):\n",
    "        return self.file.readline().strip()\n",
    "\n",
    "s = GlobalFileInput('input.txt')"
   ]
  },
  {
   "cell_type": "code",
   "execution_count": 70,
   "metadata": {},
   "outputs": [],
   "source": [
    "import google.generativeai as genai\n",
    "\n",
    "genai.configure(api_key=\"YOUR KEY\")\n",
    "model = genai.GenerativeModel(\"gemini-1.5-flash\")"
   ]
  },
  {
   "cell_type": "code",
   "execution_count": 71,
   "metadata": {},
   "outputs": [
    {
     "name": "stdout",
     "output_type": "stream",
     "text": [
      "Tenants Table:\n",
      "   tenant_id   name       contact_info\n",
      "0          1  Alice  alice@example.com\n",
      "1          2    Bob    bob@example.com\n",
      "\n",
      "Payments Table:\n",
      "   payment_id  tenant_id  amount   status last_updated\n",
      "0           1          1    1500     Paid   2024-12-01\n",
      "1           2          2    1400  Pending   2024-12-15\n"
     ]
    }
   ],
   "source": [
    "import pandas as pd\n",
    "\n",
    "\n",
    "tenants = pd.DataFrame({\n",
    "    \"tenant_id\": [1, 2],\n",
    "    \"name\": [\"Alice\", \"Bob\"],\n",
    "    \"contact_info\": [\"alice@example.com\", \"bob@example.com\"]\n",
    "})\n",
    "\n",
    "payments = pd.DataFrame({\n",
    "    \"payment_id\": [1, 2],\n",
    "    \"tenant_id\": [1, 2],\n",
    "    \"amount\": [1500, 1400],\n",
    "    \"status\": [\"Paid\", \"Pending\"],\n",
    "    \"last_updated\": [\"2024-12-01\", \"2024-12-15\"]\n",
    "})\n",
    "\n",
    "\n",
    "print(\"Tenants Table:\")\n",
    "print(tenants)\n",
    "\n",
    "print(\"\\nPayments Table:\")\n",
    "print(payments)\n"
   ]
  },
  {
   "cell_type": "code",
   "execution_count": 82,
   "metadata": {},
   "outputs": [],
   "source": [
    "def generate_sql_from_prompt(user_query, tenants, payments):\n",
    "\n",
    "    tenants_table = tenants\n",
    "    payments_table = payments\n",
    "\n",
    "    prompt = f\"\"\"\n",
    "    Below are two tables: tenants and payments.\n",
    "\n",
    "    tenants Table:\n",
    "    {tenants_table.to_string(index=False)}\n",
    "\n",
    "    payments Table:\n",
    "    {payments_table.to_string(index=False)}\n",
    "\n",
    "    Translate the following user question into a valid SQL query and return the result of that query that is fetch that value from the table and.:\n",
    "\n",
    "    Question: \"{user_query}\"\n",
    "    SQL Query:\n",
    "    \"\"\"\n",
    "    \n",
    "    response = model.generate_content(prompt)\n",
    "    sql_query = response.text.strip()\n",
    "    \n",
    "    sql_query = sql_query.replace(\"```sql\", \"\").replace(\"```\", \"\").strip()\n",
    "    \n",
    "    return sql_query\n"
   ]
  },
  {
   "cell_type": "code",
   "execution_count": 73,
   "metadata": {},
   "outputs": [],
   "source": [
    "import pandasql as ps\n",
    "\n",
    "def execute_sql_with_pandas(sql_query,tenants,payments):\n",
    "   \n",
    "    result = ps.sqldf(sql_query, locals())\n",
    "    return result\n"
   ]
  },
  {
   "cell_type": "code",
   "execution_count": 80,
   "metadata": {},
   "outputs": [
    {
     "name": "stdout",
     "output_type": "stream",
     "text": [
      "SELECT\n",
      "    p.last_updated,\n",
      "    t.contact_info\n",
      "FROM\n",
      "    payments p\n",
      "JOIN\n",
      "    tenants t ON p.tenant_id = t.tenant_id\n",
      "WHERE\n",
      "    t.name = 'Bob' OR t.name = 'Alice';\n",
      "\n",
      "  last_updated       contact_info\n",
      "0   2024-12-01  alice@example.com\n",
      "1   2024-12-15    bob@example.com\n"
     ]
    }
   ],
   "source": [
    "s.start()\n",
    "\n",
    "user_query = input()\n",
    "\n",
    "sql_query = generate_sql_from_prompt(user_query, tenants, payments)\n",
    "\n",
    "print(sql_query)\n",
    "    \n",
    "result = execute_sql_with_pandas(sql_query, tenants, payments)\n",
    "\n",
    "print()\n",
    "print(result)\n"
   ]
  },
  {
   "cell_type": "code",
   "execution_count": 84,
   "metadata": {},
   "outputs": [
    {
     "name": "stdout",
     "output_type": "stream",
     "text": [
      "SELECT\n",
      "  p.last_updated,\n",
      "  t.contact_info,\n",
      "  p.status\n",
      "FROM tenants t\n",
      "JOIN payments p ON t.tenant_id = p.tenant_id\n",
      "WHERE\n",
      "  t.name = 'Bob' OR t.name = 'Alice';\n",
      "\n",
      "\n",
      "This query will return a result set with three columns: `last_updated`, `contact_info`, and `status`.  It will include a row for Bob showing his last updated payment date, and a separate row for Alice showing her contact information and payment status.\n",
      "\n",
      "\n",
      "**Result:**\n",
      "\n",
      "| last_updated | contact_info      | status   |\n",
      "|--------------|----------------------|----------|\n",
      "| 2024-12-15   | bob@example.com     | Pending  |\n",
      "| 2024-12-01   | alice@example.com   | Paid     |\n"
     ]
    }
   ],
   "source": [
    "s.start()\n",
    "\n",
    "user_query = input()\n",
    "\n",
    "sql_query = generate_sql_from_prompt(user_query, tenants, payments)\n",
    "\n",
    "print(sql_query)\n"
   ]
  },
  {
   "cell_type": "code",
   "execution_count": null,
   "metadata": {},
   "outputs": [],
   "source": []
  },
  {
   "cell_type": "code",
   "execution_count": null,
   "metadata": {},
   "outputs": [],
   "source": []
  }
 ],
 "metadata": {
  "kernelspec": {
   "display_name": "venv",
   "language": "python",
   "name": "python3"
  },
  "language_info": {
   "codemirror_mode": {
    "name": "ipython",
    "version": 3
   },
   "file_extension": ".py",
   "mimetype": "text/x-python",
   "name": "python",
   "nbconvert_exporter": "python",
   "pygments_lexer": "ipython3",
   "version": "3.13.1"
  }
 },
 "nbformat": 4,
 "nbformat_minor": 2
}
