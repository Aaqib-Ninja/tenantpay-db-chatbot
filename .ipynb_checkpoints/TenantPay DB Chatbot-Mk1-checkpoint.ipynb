{
 "cells": [
  {
   "cell_type": "code",
   "execution_count": 27,
   "id": "6120f840-dbd7-431f-8a80-6d226520bc20",
   "metadata": {},
   "outputs": [],
   "source": [
    "schema = {\n",
    "  \"tables\": {\n",
    "    \"tenants\": [\"tenant_id\", \"name\", \"payment\", \"last_billed\"],\n",
    "    \"landlords\": [\"landlord_id\", \"landlord_name\", \"created_date\"],\n",
    "    \"properties\": [\"property_id\", \"property_name\", \"tenant_id\", \"landlord_id\"],\n",
    "    \"payments\": [\"payment_id\", \"amount\", \"tenant\", \"property\"]\n",
    "  }\n",
    "}"
   ]
  },
  {
   "cell_type": "code",
   "execution_count": 28,
   "id": "f1c50383-4e46-4375-ad70-c53b921b93a5",
   "metadata": {},
   "outputs": [],
   "source": [
    "def find_table_from_input(user_input, schema):\n",
    "    \"\"\"\n",
    "    Determine the table based on user input and schema attributes.\n",
    "    \"\"\"\n",
    "    tokens = user_input.lower().split()\n",
    "    for table, attributes in schema[\"tables\"].items():\n",
    "        for attr in attributes:\n",
    "            if attr in tokens:\n",
    "                return table\n",
    "    return None"
   ]
  },
  {
   "cell_type": "code",
   "execution_count": 29,
   "id": "9d3bae72-7a11-4bd4-9569-d7c2db2db9f4",
   "metadata": {},
   "outputs": [
    {
     "name": "stdout",
     "output_type": "stream",
     "text": [
      "tenants\n"
     ]
    }
   ],
   "source": [
    "# user_input = \"What is the amount of payment by tenant John Doe?\"\n",
    "user_input = \"What is the payment of tenant John Doe?\"\n",
    "table = find_table_from_input(user_input, schema)\n",
    "print(table)  # Output: \"tenants\""
   ]
  },
  {
   "cell_type": "code",
   "execution_count": 30,
   "id": "1f5a6142-a2f0-4896-a9e6-ff00fe61daa6",
   "metadata": {},
   "outputs": [],
   "source": [
    "def extract_entities(user_input, attributes):\n",
    "    \"\"\"\n",
    "    Extract attributes and their corresponding values from user input.\n",
    "    \"\"\"\n",
    "    entities = {}\n",
    "    tokens = user_input.lower().split()\n",
    "    for attr in attributes:\n",
    "        if attr in tokens:\n",
    "            idx = tokens.index(attr)\n",
    "            if idx + 1 < len(tokens):  # Assume value follows attribute\n",
    "                entities[attr] = tokens[idx + 1]\n",
    "    return entities"
   ]
  },
  {
   "cell_type": "code",
   "execution_count": 31,
   "id": "09adb8d2-ed33-4567-b297-3d17780cbcff",
   "metadata": {},
   "outputs": [
    {
     "name": "stdout",
     "output_type": "stream",
     "text": [
      "{'payment': 'of'}\n"
     ]
    }
   ],
   "source": [
    "attributes = schema[\"tables\"][\"tenants\"]\n",
    "entities = extract_entities(user_input, attributes)\n",
    "print(entities)  # Example Output: {\"tenant_name\": \"john\"}"
   ]
  },
  {
   "cell_type": "code",
   "execution_count": 32,
   "id": "ce08b09e-a44b-4fe9-9e2c-65af46353539",
   "metadata": {},
   "outputs": [],
   "source": [
    "def generate_sql_query(table, entities):\n",
    "    \"\"\"\n",
    "    Generate an SQL query dynamically based on the table and extracted entities.\n",
    "    \"\"\"\n",
    "    where_clauses = [f\"{key} = '{value}'\" for key, value in entities.items()]\n",
    "    where_clause = \" AND \".join(where_clauses)\n",
    "    query = f\"SELECT * FROM {table} WHERE {where_clause};\"\n",
    "    return query"
   ]
  },
  {
   "cell_type": "code",
   "execution_count": 33,
   "id": "f37493e1-59b0-4a71-9878-859f50b972b4",
   "metadata": {},
   "outputs": [
    {
     "name": "stdout",
     "output_type": "stream",
     "text": [
      "SELECT * FROM tenants WHERE tenant_name = 'John Doe';\n"
     ]
    }
   ],
   "source": [
    "sql_query = generate_sql_query(\"tenants\", {\"tenant_name\": \"John Doe\"})\n",
    "print(sql_query)"
   ]
  },
  {
   "cell_type": "code",
   "execution_count": null,
   "id": "844a1001-c30e-4624-a2c3-4083412930f1",
   "metadata": {},
   "outputs": [],
   "source": []
  }
 ],
 "metadata": {
  "kernelspec": {
   "display_name": "Python 3 (ipykernel)",
   "language": "python",
   "name": "python3"
  },
  "language_info": {
   "codemirror_mode": {
    "name": "ipython",
    "version": 3
   },
   "file_extension": ".py",
   "mimetype": "text/x-python",
   "name": "python",
   "nbconvert_exporter": "python",
   "pygments_lexer": "ipython3",
   "version": "3.8.20"
  }
 },
 "nbformat": 4,
 "nbformat_minor": 5
}
