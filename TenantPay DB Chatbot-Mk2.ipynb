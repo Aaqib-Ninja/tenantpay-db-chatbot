{
 "cells": [
  {
   "cell_type": "code",
   "execution_count": 15,
   "id": "6e9a5c93-3a1b-4122-ab53-193fdd89f025",
   "metadata": {},
   "outputs": [
    {
     "name": "stdout",
     "output_type": "stream",
     "text": [
      "Collecting en-core-web-sm==3.8.0\n",
      "  Downloading https://github.com/explosion/spacy-models/releases/download/en_core_web_sm-3.8.0/en_core_web_sm-3.8.0-py3-none-any.whl (12.8 MB)\n",
      "\u001b[2K     \u001b[38;2;114;156;31m━━━━━━━━━━━━━━━━━━━━━━━━━━━━━━━━━━━━━━━━\u001b[0m \u001b[32m12.8/12.8 MB\u001b[0m \u001b[31m1.1 MB/s\u001b[0m eta \u001b[36m0:00:00\u001b[0mm eta \u001b[36m0:00:01\u001b[0m[36m0:00:01\u001b[0m\n",
      "Installing collected packages: en-core-web-sm\n",
      "Successfully installed en-core-web-sm-3.8.0\n",
      "\u001b[38;5;2m✔ Download and installation successful\u001b[0m\n",
      "You can now load the package via spacy.load('en_core_web_sm')\n"
     ]
    }
   ],
   "source": [
    "# !pip install spacy\n",
    "# !pip install scikit-learn\n",
    "# !pip install numpy\n",
    "\n",
    "!python -m spacy download en_core_web_sm"
   ]
  },
  {
   "cell_type": "code",
   "execution_count": 16,
   "id": "c4c50267-edf3-45ea-b157-e2fb31910e5b",
   "metadata": {},
   "outputs": [],
   "source": [
    "import spacy\n",
    "from spacy.pipeline import EntityRuler\n",
    "from sklearn.feature_extraction.text import CountVectorizer\n",
    "from sklearn.naive_bayes import MultinomialNB\n",
    "import numpy as np\n",
    "\n",
    "# Load SpaCy model\n",
    "nlp = spacy.load(\"en_core_web_sm\")\n"
   ]
  },
  {
   "cell_type": "code",
   "execution_count": 17,
   "id": "4bcefe43-a558-4dfe-a39f-9333b989f4ad",
   "metadata": {},
   "outputs": [],
   "source": [
    "\n",
    "# Define intents and training data\n",
    "intent_training_data = {\n",
    "    \"get_payment\": [\n",
    "        \"What is the payment of tenant John Doe?\",\n",
    "        \"How much does tenant 123 owe?\",\n",
    "        \"Show me the payment details for tenant 456.\"\n",
    "    ],\n",
    "    \"landlord_creation_date\": [\n",
    "        \"When was landlord Smith created?\",\n",
    "        \"Tell me the creation date of landlord 789.\",\n",
    "        \"How old is landlord 123?\"\n",
    "    ]\n",
    "}\n",
    "intents = list(intent_training_data.keys())\n",
    "\n",
    "# Prepare training data for intent recognition\n",
    "vectorizer = CountVectorizer()\n",
    "X_train = vectorizer.fit_transform(\n",
    "    [sentence for examples in intent_training_data.values() for sentence in examples]\n",
    ")\n",
    "y_train = np.array(\n",
    "    [intent for intent, examples in intent_training_data.items() for _ in examples]\n",
    ")\n",
    "\n",
    "# Train a classifier (e.g., Naive Bayes)\n",
    "classifier = MultinomialNB()\n",
    "classifier.fit(X_train, y_train)\n",
    "\n",
    "# Add custom entity extraction rules with EntityRuler\n",
    "ruler = nlp.add_pipe(\"entity_ruler\", before=\"ner\")\n",
    "patterns = [\n",
    "    {\"label\": \"TENANT_NAME\", \"pattern\": [{\"LOWER\": \"tenant\"}, {\"IS_TITLE\": True}]},\n",
    "    {\"label\": \"TENANT_ID\", \"pattern\": [{\"LOWER\": \"tenant\"}, {\"IS_DIGIT\": True}]},\n",
    "    {\"label\": \"LANDLORD_NAME\", \"pattern\": [{\"LOWER\": \"landlord\"}, {\"IS_TITLE\": True}]},\n",
    "    {\"label\": \"LANDLORD_ID\", \"pattern\": [{\"LOWER\": \"landlord\"}, {\"IS_DIGIT\": True}]},\n",
    "]\n",
    "ruler.add_patterns(patterns)\n"
   ]
  },
  {
   "cell_type": "code",
   "execution_count": 18,
   "id": "ba97a63e-0d9d-43b6-9ea0-0202d37be00d",
   "metadata": {},
   "outputs": [],
   "source": [
    "# Function to process user input\n",
    "def process_input(text):\n",
    "    # Predict intent\n",
    "    X_test = vectorizer.transform([text])\n",
    "    predicted_intent = classifier.predict(X_test)[0]\n",
    "\n",
    "    # Extract entities\n",
    "    doc = nlp(text)\n",
    "    entities = {ent.label_: ent.text for ent in doc.ents}\n",
    "\n",
    "    return {\"intent\": predicted_intent, \"entities\": entities}\n",
    "\n"
   ]
  },
  {
   "cell_type": "code",
   "execution_count": 19,
   "id": "59c7ce35-77fc-440b-b1ed-08de0326afd5",
   "metadata": {},
   "outputs": [
    {
     "name": "stdout",
     "output_type": "stream",
     "text": [
      "{'intent': np.str_('get_payment'), 'entities': {'TENANT_ID': 'tenant 123'}}\n"
     ]
    }
   ],
   "source": [
    "# Example usage\n",
    "user_input = \"What is the payment of tenant 123?\"\n",
    "result = process_input(user_input)\n",
    "print(result)"
   ]
  },
  {
   "cell_type": "code",
   "execution_count": null,
   "id": "79303c2c-5808-4fcb-9bd4-c1e77c48c27e",
   "metadata": {},
   "outputs": [],
   "source": []
  }
 ],
 "metadata": {
  "kernelspec": {
   "display_name": "Python 3 (ipykernel)",
   "language": "python",
   "name": "python3"
  },
  "language_info": {
   "codemirror_mode": {
    "name": "ipython",
    "version": 3
   },
   "file_extension": ".py",
   "mimetype": "text/x-python",
   "name": "python",
   "nbconvert_exporter": "python",
   "pygments_lexer": "ipython3",
   "version": "3.12.3"
  }
 },
 "nbformat": 4,
 "nbformat_minor": 5
}
