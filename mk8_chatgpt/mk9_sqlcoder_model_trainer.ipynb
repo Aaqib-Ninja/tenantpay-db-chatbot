{
 "cells": [
  {
   "cell_type": "code",
   "execution_count": 16,
   "id": "5ba58aaf-6336-4e61-83a6-6661e69343a5",
   "metadata": {},
   "outputs": [
    {
     "data": {
      "application/vnd.jupyter.widget-view+json": {
       "model_id": "ae50bef39fb04778803923d6282c4d13",
       "version_major": 2,
       "version_minor": 0
      },
      "text/plain": [
       "Loading checkpoint shards:   0%|          | 0/3 [00:00<?, ?it/s]"
      ]
     },
     "metadata": {},
     "output_type": "display_data"
    },
    {
     "name": "stderr",
     "output_type": "stream",
     "text": [
      "Some parameters are on the meta device because they were offloaded to the cpu and disk.\n"
     ]
    }
   ],
   "source": [
    "from transformers import pipeline, AutoModelForCausalLM, AutoTokenizer\n",
    "\n",
    "# Load the model with offloading\n",
    "model = AutoModelForCausalLM.from_pretrained(\n",
    "    \"defog/sqlcoder-7b-2\",\n",
    "    torch_dtype=\"float16\",\n",
    "    device_map=\"auto\",  # Enable device mapping\n",
    "    offload_folder=\"./offload\"  # Specify the folder for offloading\n",
    ")\n",
    "\n",
    "# Load the tokenizer\n",
    "tokenizer = AutoTokenizer.from_pretrained(\"defog/sqlcoder-7b-2\")\n"
   ]
  },
  {
   "cell_type": "code",
   "execution_count": 17,
   "id": "e7e81944-5635-49eb-a4e0-94bf0b5fc5ee",
   "metadata": {},
   "outputs": [
    {
     "name": "stderr",
     "output_type": "stream",
     "text": [
      "Device set to use cpu\n"
     ]
    }
   ],
   "source": [
    "# Create the pipeline\n",
    "pipe = pipeline(\n",
    "    \"text-generation\",\n",
    "    model=model,\n",
    "    tokenizer=tokenizer,\n",
    "    return_full_text=False \n",
    ")\n"
   ]
  },
  {
   "cell_type": "code",
   "execution_count": 18,
   "id": "fcd788b0-18d5-4512-8072-316ea05cd1a3",
   "metadata": {},
   "outputs": [],
   "source": [
    "prompt = \"\"\"\n",
    "### Instructions:\n",
    "Your task is to generate a SQL query based on the provided question and database schema. Follow these rules strictly:\n",
    "\n",
    "1. **Read the question and schema thoroughly** to understand the required query.\n",
    "2. **Use Table Aliases** to maintain clarity and prevent ambiguity.\n",
    "3. **Cast the numerator as FLOAT** when calculating ratios.\n",
    "4. **Do not repeat any part of the input, including the question, schema, or instructions, in the output.**\n",
    "5. Your output must only contain the SQL query, formatted cleanly without additional text or explanations.\n",
    "\n",
    "### Input:\n",
    "Question: `Which salespeople generated the most sales?`\n",
    "Schema:\n",
    "CREATE TABLE products (\n",
    "  product_id INTEGER PRIMARY KEY, -- Unique ID for each product\n",
    "  name VARCHAR(50), -- Name of the product\n",
    "  price DECIMAL(10,2), -- Price of each unit of the product\n",
    "  quantity INTEGER  -- Current quantity in stock\n",
    ");\n",
    "\n",
    "CREATE TABLE customers (\n",
    "   customer_id INTEGER PRIMARY KEY, -- Unique ID for each customer\n",
    "   name VARCHAR(50), -- Name of the customer\n",
    "   address VARCHAR(100) -- Mailing address of the customer\n",
    ");\n",
    "\n",
    "CREATE TABLE salespeople (\n",
    "  salesperson_id INTEGER PRIMARY KEY, -- Unique ID for each salesperson\n",
    "  name VARCHAR(50), -- Name of the salesperson\n",
    "  region VARCHAR(50) -- Geographic sales region\n",
    ");\n",
    "\n",
    "CREATE TABLE sales (\n",
    "  sale_id INTEGER PRIMARY KEY, -- Unique ID for each sale\n",
    "  product_id INTEGER, -- ID of product sold\n",
    "  customer_id INTEGER,  -- ID of customer who made purchase\n",
    "  salesperson_id INTEGER, -- ID of salesperson who made the sale\n",
    "  sale_date DATE, -- Date the sale occurred\n",
    "  quantity INTEGER -- Quantity of product sold\n",
    ");\n",
    "\n",
    "CREATE TABLE product_suppliers (\n",
    "  supplier_id INTEGER PRIMARY KEY, -- Unique ID for each supplier\n",
    "  product_id INTEGER, -- Product ID supplied\n",
    "  supply_price DECIMAL(10,2) -- Unit price charged by supplier\n",
    ");\n",
    "\n",
    "### Output:\n",
    "\"\"\""
   ]
  },
  {
   "cell_type": "code",
   "execution_count": 7,
   "id": "80ff52e9-69a5-458d-9d40-e4266ab8b004",
   "metadata": {},
   "outputs": [
    {
     "name": "stdout",
     "output_type": "stream",
     "text": [
      "file exists!\n"
     ]
    }
   ],
   "source": [
    "\n",
    "filename = \"../table_schemas_v2.txt\"\n",
    "if os.path.isfile(filename):\n",
    "  print(\"file exists!\")\n",
    "# import os\n",
    "# os.listdir()"
   ]
  },
  {
   "cell_type": "code",
   "execution_count": 8,
   "id": "ab359e4f-6389-4200-b467-074b7f63e46b",
   "metadata": {},
   "outputs": [],
   "source": [
    "question = \"What are names 10 of the residents who lives in units?\"\n",
    "\n",
    "\n",
    "instructions = \"\"\"\n",
    "Your task is to generate a SQL query based on the provided question and database schema. Follow these rules strictly:\n",
    "\n",
    "1. **Read the question and schema thoroughly** to understand the required query.\n",
    "2. **Use Table Aliases** to maintain clarity and prevent ambiguity.\n",
    "3. **Cast the numerator as FLOAT** when calculating ratios.\n",
    "4. **Do not repeat any part of the input, including the question, schema, or instructions, in the output.**\n",
    "5. Your output must only contain the SQL query, formatted cleanly without additional text or explanations.\n",
    "\n",
    "\"\"\"\n",
    "\n",
    "with open(\"../table_schemas_v2.txt\",\"r\") as schema_file:\n",
    "    table_schema = schema_file.read()\n",
    "prompt = f\"\"\"\n",
    "{instructions}\n",
    "\n",
    "### Input:\n",
    "Question: `{question}`\n",
    "Schema: \n",
    "{table_schema}\n",
    "\n",
    "\"\"\"\n"
   ]
  },
  {
   "cell_type": "code",
   "execution_count": 9,
   "id": "22db5a36-33ba-4f18-9e68-cfc0f471c774",
   "metadata": {},
   "outputs": [
    {
     "name": "stdout",
     "output_type": "stream",
     "text": [
      "\n",
      "\n",
      "Your task is to generate a SQL query based on the provided question and database schema. Follow these rules strictly:\n",
      "\n",
      "1. **Read the question and schema thoroughly** to understand the required query.\n",
      "2. **Use Table Aliases** to maintain clarity and prevent ambiguity.\n",
      "3. **Cast the numerator as FLOAT** when calculating ratios.\n",
      "4. **Do not repeat any part of the input, including the question, schema, or instructions, in the output.**\n",
      "5. Your output must only contain the SQL query, formatted cleanly without additional text or explanations.\n",
      "\n",
      "\n",
      "\n",
      "### Input:\n",
      "Question: `What are names 10 of the residents who lives in units?`\n",
      "Schema: \n",
      "ImportedBankTransaction\n",
      "id: bigint (primary, auto-increment)\n",
      "importedPaymentFileId: bigint (nullable)\n",
      "transactionId: bigint (nullable)\n",
      "importDate: date\n",
      "payNumber: varchar(191)\n",
      "amount: double\n",
      "bankAccount: relation (many-to-one with BankAccount)\n",
      "\n",
      "\n",
      "Resident\n",
      "residentId: bigint (primary, auto-increment)\n",
      "companyId: bigint\n",
      "buildingId: bigint\n",
      "hashId: varchar(512)\n",
      "rentAmount: double (nullable)\n",
      "building: relation (many-to-one with Building)\n",
      "\n",
      "\n",
      "Tenant\n",
      "tenantId: bigint (primary, auto-increment)\n",
      "isIdentityVerified: boolean (default: false)\n",
      "isIndividualAccount: boolean (default: true)\n",
      "isNewProperty: boolean (default: true)\n",
      "user: relation (one-to-one with User)\n",
      "\n",
      "\n",
      "Transaction\n",
      "transactionId: bigint (primary, auto-increment)\n",
      "companyId: bigint\n",
      "amountPaid: double\n",
      "processingFee: double\n",
      "transactionDate: date\n",
      "resident: relation (many-to-one with Resident)\n",
      "\n",
      "\n",
      "User\n",
      "userId: bigint (primary, auto-increment)\n",
      "firstName: varchar(191)\n",
      "lastName: varchar(191)\n",
      "email: varchar(191, unique)\n",
      "isActive: boolean (default: true)\n",
      "\n",
      "\n",
      "\n",
      "\n"
     ]
    }
   ],
   "source": [
    "print(prompt)"
   ]
  },
  {
   "cell_type": "code",
   "execution_count": null,
   "id": "5aecff7e-aaa1-4eb1-9975-cb467a2590f1",
   "metadata": {},
   "outputs": [
    {
     "name": "stderr",
     "output_type": "stream",
     "text": [
      "Setting `pad_token_id` to `eos_token_id`:2 for open-end generation.\n"
     ]
    }
   ],
   "source": [
    "# Provide the input prompt\n",
    "# result = pipe(prompt, max_length=1000, num_return_sequences=1)\n",
    "\n",
    "result = pipe(\n",
    "    prompt,\n",
    "    max_length=1000,\n",
    "    num_return_sequences=1,\n",
    "    # eos_token_id=tokenizer.eos_token_id,  # Ensure clean output termination\n",
    "    # pad_token_id=tokenizer.pad_token_id,  # Avoid padding issues\n",
    "    # no_repeat_ngram_size=2,  # Avoid repetitive phrases\n",
    ")\n",
    "\n",
    "# Print the generated output\n",
    "print(result[0][\"generated_text\"])"
   ]
  },
  {
   "cell_type": "code",
   "execution_count": null,
   "id": "0898261d-380b-4431-8b1e-3e2974736477",
   "metadata": {},
   "outputs": [],
   "source": []
  }
 ],
 "metadata": {
  "kernelspec": {
   "display_name": "Python 3 (ipykernel)",
   "language": "python",
   "name": "python3"
  },
  "language_info": {
   "codemirror_mode": {
    "name": "ipython",
    "version": 3
   },
   "file_extension": ".py",
   "mimetype": "text/x-python",
   "name": "python",
   "nbconvert_exporter": "python",
   "pygments_lexer": "ipython3",
   "version": "3.12.3"
  }
 },
 "nbformat": 4,
 "nbformat_minor": 5
}
